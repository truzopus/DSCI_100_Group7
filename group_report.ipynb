{
 "cells": [
  {
   "cell_type": "markdown",
   "metadata": {},
   "source": [
    "# Facebook: Paid vs Unpaid Posts"
   ]
  },
  {
   "cell_type": "markdown",
   "metadata": {},
   "source": [
    "### Introduction:\n",
    "Background: Facebook is one of the biggest social media platforms known to society, and it is a great place for businesses to reach consumers globally. It is a great way to collect data on different metrics and, specifically, we curious to see if we could predict whether a post is paid or unpaid. Hence, we chose two different metrics for Facebook posts that we thought would correlate the heaviest, lifetime post total reach and lifetime people who have liked the page and engaged with the post, to make a prediction on whether the post was paid or unpaid.\n",
    "\n",
    "Question: How well do the two variables, lifetime post total reach and lifetime people who have liked the page and engaged with the post, predict if a post was paid or unpaid? In other words, which of the three has the highest accuracy of predicting a paid/unpaid post: 1. the first variable, 2. the second variable or 3. together?\n",
    "\n",
    "Dataset: The dataset we have is from 2014 Facebook posts of a renowned cosmetic brand, and it shows the type of post (paid vs unpaid) as well as information on it, from the number of likes and shares to total impressions. This will be done through splitting the data into a training and testing set, and building a classifier thereafter."
   ]
  },
  {
   "cell_type": "markdown",
   "metadata": {},
   "source": [
    "### Methods and Results:"
   ]
  },
  {
   "cell_type": "markdown",
   "metadata": {},
   "source": [
    "##### Step 1\n",
    "The following packages are loaded using the library function to be able to use the functions necessary to build, tune, and estimate the accuracy of the classifier."
   ]
  },
  {
   "cell_type": "code",
   "execution_count": 1,
   "metadata": {},
   "outputs": [
    {
     "name": "stderr",
     "output_type": "stream",
     "text": [
      "── \u001b[1mAttaching packages\u001b[22m ─────────────────────────────────────── tidyverse 1.3.0 ──\n",
      "\n",
      "\u001b[32m✔\u001b[39m \u001b[34mggplot2\u001b[39m 3.3.2     \u001b[32m✔\u001b[39m \u001b[34mpurrr  \u001b[39m 0.3.4\n",
      "\u001b[32m✔\u001b[39m \u001b[34mtibble \u001b[39m 3.0.3     \u001b[32m✔\u001b[39m \u001b[34mdplyr  \u001b[39m 1.0.2\n",
      "\u001b[32m✔\u001b[39m \u001b[34mtidyr  \u001b[39m 1.1.2     \u001b[32m✔\u001b[39m \u001b[34mstringr\u001b[39m 1.4.0\n",
      "\u001b[32m✔\u001b[39m \u001b[34mreadr  \u001b[39m 1.3.1     \u001b[32m✔\u001b[39m \u001b[34mforcats\u001b[39m 0.5.0\n",
      "\n",
      "Warning message:\n",
      "“package ‘ggplot2’ was built under R version 4.0.1”\n",
      "Warning message:\n",
      "“package ‘tibble’ was built under R version 4.0.2”\n",
      "Warning message:\n",
      "“package ‘tidyr’ was built under R version 4.0.2”\n",
      "Warning message:\n",
      "“package ‘dplyr’ was built under R version 4.0.2”\n",
      "── \u001b[1mConflicts\u001b[22m ────────────────────────────────────────── tidyverse_conflicts() ──\n",
      "\u001b[31m✖\u001b[39m \u001b[34mdplyr\u001b[39m::\u001b[32mfilter()\u001b[39m masks \u001b[34mstats\u001b[39m::filter()\n",
      "\u001b[31m✖\u001b[39m \u001b[34mdplyr\u001b[39m::\u001b[32mlag()\u001b[39m    masks \u001b[34mstats\u001b[39m::lag()\n",
      "\n",
      "Warning message:\n",
      "“package ‘tidymodels’ was built under R version 4.0.2”\n",
      "── \u001b[1mAttaching packages\u001b[22m ────────────────────────────────────── tidymodels 0.1.1 ──\n",
      "\n",
      "\u001b[32m✔\u001b[39m \u001b[34mbroom    \u001b[39m 0.7.0      \u001b[32m✔\u001b[39m \u001b[34mrecipes  \u001b[39m 0.1.13\n",
      "\u001b[32m✔\u001b[39m \u001b[34mdials    \u001b[39m 0.0.9      \u001b[32m✔\u001b[39m \u001b[34mrsample  \u001b[39m 0.0.7 \n",
      "\u001b[32m✔\u001b[39m \u001b[34minfer    \u001b[39m 0.5.4      \u001b[32m✔\u001b[39m \u001b[34mtune     \u001b[39m 0.1.1 \n",
      "\u001b[32m✔\u001b[39m \u001b[34mmodeldata\u001b[39m 0.0.2      \u001b[32m✔\u001b[39m \u001b[34mworkflows\u001b[39m 0.2.0 \n",
      "\u001b[32m✔\u001b[39m \u001b[34mparsnip  \u001b[39m 0.1.3      \u001b[32m✔\u001b[39m \u001b[34myardstick\u001b[39m 0.0.7 \n",
      "\n",
      "Warning message:\n",
      "“package ‘broom’ was built under R version 4.0.2”\n",
      "Warning message:\n",
      "“package ‘dials’ was built under R version 4.0.2”\n",
      "Warning message:\n",
      "“package ‘infer’ was built under R version 4.0.3”\n",
      "Warning message:\n",
      "“package ‘modeldata’ was built under R version 4.0.1”\n",
      "Warning message:\n",
      "“package ‘parsnip’ was built under R version 4.0.2”\n",
      "Warning message:\n",
      "“package ‘recipes’ was built under R version 4.0.1”\n",
      "Warning message:\n",
      "“package ‘tune’ was built under R version 4.0.2”\n",
      "Warning message:\n",
      "“package ‘workflows’ was built under R version 4.0.2”\n",
      "Warning message:\n",
      "“package ‘yardstick’ was built under R version 4.0.2”\n",
      "── \u001b[1mConflicts\u001b[22m ───────────────────────────────────────── tidymodels_conflicts() ──\n",
      "\u001b[31m✖\u001b[39m \u001b[34mscales\u001b[39m::\u001b[32mdiscard()\u001b[39m masks \u001b[34mpurrr\u001b[39m::discard()\n",
      "\u001b[31m✖\u001b[39m \u001b[34mdplyr\u001b[39m::\u001b[32mfilter()\u001b[39m   masks \u001b[34mstats\u001b[39m::filter()\n",
      "\u001b[31m✖\u001b[39m \u001b[34mrecipes\u001b[39m::\u001b[32mfixed()\u001b[39m  masks \u001b[34mstringr\u001b[39m::fixed()\n",
      "\u001b[31m✖\u001b[39m \u001b[34mdplyr\u001b[39m::\u001b[32mlag()\u001b[39m      masks \u001b[34mstats\u001b[39m::lag()\n",
      "\u001b[31m✖\u001b[39m \u001b[34myardstick\u001b[39m::\u001b[32mspec()\u001b[39m masks \u001b[34mreadr\u001b[39m::spec()\n",
      "\u001b[31m✖\u001b[39m \u001b[34mrecipes\u001b[39m::\u001b[32mstep()\u001b[39m   masks \u001b[34mstats\u001b[39m::step()\n",
      "\n"
     ]
    }
   ],
   "source": [
    "library(tidyverse)\n",
    "library(repr)\n",
    "library(tidymodels)"
   ]
  },
  {
   "cell_type": "markdown",
   "metadata": {},
   "source": [
    "##### Step 2\n",
    "The dataset is downloaded from the UCI Machine Learning Repository. In this project, we will be using the 2014 Facebook page of a renowned cosmetic brand. The as_factor() function is used to convert the Paid column into a factor instead of an integer. With this, it can now be used as a class/label that observations can be categorized into. Moreober, the select() function is used to select the columns, Lifetime Post Total Reach, and Lifetime People who have liked your Page and engaged with your post, as the chosen predictors for our classifier. Furthermore, in this dataset, 0 = unpaid and 1 = paid."
   ]
  },
  {
   "cell_type": "code",
   "execution_count": 18,
   "metadata": {},
   "outputs": [
    {
     "data": {
      "text/html": [
       "<table>\n",
       "<caption>A data.frame: 500 × 3</caption>\n",
       "<thead>\n",
       "\t<tr><th scope=col>Paid</th><th scope=col>Lifetime_Post</th><th scope=col>Lifetime_Like_Engage</th></tr>\n",
       "\t<tr><th scope=col>&lt;fct&gt;</th><th scope=col>&lt;int&gt;</th><th scope=col>&lt;int&gt;</th></tr>\n",
       "</thead>\n",
       "<tbody>\n",
       "\t<tr><td>0</td><td> 2752</td><td> 119</td></tr>\n",
       "\t<tr><td>0</td><td>10460</td><td>1108</td></tr>\n",
       "\t<tr><td>0</td><td> 2413</td><td> 132</td></tr>\n",
       "\t<tr><td>⋮</td><td>⋮</td><td>⋮</td></tr>\n",
       "\t<tr><td>0 </td><td>3778</td><td>363</td></tr>\n",
       "\t<tr><td>0 </td><td>4156</td><td>370</td></tr>\n",
       "\t<tr><td>NA</td><td>4188</td><td>316</td></tr>\n",
       "</tbody>\n",
       "</table>\n"
      ],
      "text/latex": [
       "A data.frame: 500 × 3\n",
       "\\begin{tabular}{lll}\n",
       " Paid & Lifetime\\_Post & Lifetime\\_Like\\_Engage\\\\\n",
       " <fct> & <int> & <int>\\\\\n",
       "\\hline\n",
       "\t 0 &  2752 &  119\\\\\n",
       "\t 0 & 10460 & 1108\\\\\n",
       "\t 0 &  2413 &  132\\\\\n",
       "\t ⋮ & ⋮ & ⋮\\\\\n",
       "\t 0  & 3778 & 363\\\\\n",
       "\t 0  & 4156 & 370\\\\\n",
       "\t NA & 4188 & 316\\\\\n",
       "\\end{tabular}\n"
      ],
      "text/markdown": [
       "\n",
       "A data.frame: 500 × 3\n",
       "\n",
       "| Paid &lt;fct&gt; | Lifetime_Post &lt;int&gt; | Lifetime_Like_Engage &lt;int&gt; |\n",
       "|---|---|---|\n",
       "| 0 |  2752 |  119 |\n",
       "| 0 | 10460 | 1108 |\n",
       "| 0 |  2413 |  132 |\n",
       "| ⋮ | ⋮ | ⋮ |\n",
       "| 0  | 3778 | 363 |\n",
       "| 0  | 4156 | 370 |\n",
       "| NA | 4188 | 316 |\n",
       "\n"
      ],
      "text/plain": [
       "    Paid Lifetime_Post Lifetime_Like_Engage\n",
       "1   0     2752          119                \n",
       "2   0    10460         1108                \n",
       "3   0     2413          132                \n",
       "⋮   ⋮    ⋮             ⋮                   \n",
       "498 0    3778          363                 \n",
       "499 0    4156          370                 \n",
       "500 NA   4188          316                 "
      ]
     },
     "metadata": {},
     "output_type": "display_data"
    }
   ],
   "source": [
    "set.seed(3060)\n",
    "options(repr.plot.width = 8, repr.plot.height = 8)\n",
    "options(repr.matrix.max.rows = 6)\n",
    "download.file(\"https://archive.ics.uci.edu/ml/machine-learning-databases/00368/Facebook_metrics.zip\",temp, mode=\"wb\")\n",
    "unzip(temp, \"dataset_Facebook.csv\")\n",
    "facebook <- select(mutate(read.delim('dataset_Facebook.csv', sep=';'), Paid=as_factor(Paid)), Paid, Lifetime_Post = Lifetime.Post.Total.Reach, Lifetime_Like_Engage = Lifetime.People.who.have.liked.your.Page.and.engaged.with.your.post)\n",
    "facebook"
   ]
  },
  {
   "cell_type": "markdown",
   "metadata": {},
   "source": [
    "##### Step 3\n",
    "The dataset is then randomly shuffled and split into a training and testing set, wherein the training set consists of 75% of the dataset whereas the testing set consists of the remaining 25%. The training set is used to build and tune the classifier, and the testing set is used to estimate the accuracy of this classifier in predicting observations. This is where we also tell the classifier that the class we want to predict is the Paid column."
   ]
  },
  {
   "cell_type": "code",
   "execution_count": 3,
   "metadata": {},
   "outputs": [],
   "source": [
    "#splitting the data into a training and testing dataset\n",
    "facebook_split <- initial_split(facebook, prop = 0.75, strata = Paid) \n",
    "facebook_train <- training(facebook_split)   \n",
    "facebook_test <- testing(facebook_split)"
   ]
  },
  {
   "cell_type": "markdown",
   "metadata": {},
   "source": [
    "##### Step 4\n",
    "Using the training dataset, we build and tune the classifier that we will use to predict observations. We do 5-fold cross-validation, using the vfold_cv() function, to build the model to establish the number of neighbours that would be best to achieve the highest estimated accuracy. It is also important that we scale and center the chosen predictors to ensure that no variable would have a higher influence in the prediction due to their larger scale. "
   ]
  },
  {
   "cell_type": "code",
   "execution_count": 4,
   "metadata": {},
   "outputs": [
    {
     "data": {
      "text/html": [
       "<table>\n",
       "<caption>A tibble: 20 × 7</caption>\n",
       "<thead>\n",
       "\t<tr><th scope=col>neighbors</th><th scope=col>.metric</th><th scope=col>.estimator</th><th scope=col>mean</th><th scope=col>n</th><th scope=col>std_err</th><th scope=col>.config</th></tr>\n",
       "\t<tr><th scope=col>&lt;int&gt;</th><th scope=col>&lt;chr&gt;</th><th scope=col>&lt;chr&gt;</th><th scope=col>&lt;dbl&gt;</th><th scope=col>&lt;int&gt;</th><th scope=col>&lt;dbl&gt;</th><th scope=col>&lt;chr&gt;</th></tr>\n",
       "</thead>\n",
       "<tbody>\n",
       "\t<tr><td>2</td><td>accuracy</td><td>binary</td><td>0.6080000</td><td>5</td><td>0.01496663</td><td>Model01</td></tr>\n",
       "\t<tr><td>2</td><td>roc_auc </td><td>binary</td><td>0.5230159</td><td>5</td><td>0.04059705</td><td>Model01</td></tr>\n",
       "\t<tr><td>4</td><td>accuracy</td><td>binary</td><td>0.6186667</td><td>5</td><td>0.02004440</td><td>Model02</td></tr>\n",
       "\t<tr><td>⋮</td><td>⋮</td><td>⋮</td><td>⋮</td><td>⋮</td><td>⋮</td><td>⋮</td></tr>\n",
       "\t<tr><td>12</td><td>roc_auc </td><td>binary</td><td>0.5602293</td><td>5</td><td>0.01222828</td><td>Model09</td></tr>\n",
       "\t<tr><td>14</td><td>accuracy</td><td>binary</td><td>0.6906667</td><td>5</td><td>0.01292715</td><td>Model10</td></tr>\n",
       "\t<tr><td>14</td><td>roc_auc </td><td>binary</td><td>0.5652557</td><td>5</td><td>0.02241967</td><td>Model10</td></tr>\n",
       "</tbody>\n",
       "</table>\n"
      ],
      "text/latex": [
       "A tibble: 20 × 7\n",
       "\\begin{tabular}{lllllll}\n",
       " neighbors & .metric & .estimator & mean & n & std\\_err & .config\\\\\n",
       " <int> & <chr> & <chr> & <dbl> & <int> & <dbl> & <chr>\\\\\n",
       "\\hline\n",
       "\t 2 & accuracy & binary & 0.6080000 & 5 & 0.01496663 & Model01\\\\\n",
       "\t 2 & roc\\_auc  & binary & 0.5230159 & 5 & 0.04059705 & Model01\\\\\n",
       "\t 4 & accuracy & binary & 0.6186667 & 5 & 0.02004440 & Model02\\\\\n",
       "\t ⋮ & ⋮ & ⋮ & ⋮ & ⋮ & ⋮ & ⋮\\\\\n",
       "\t 12 & roc\\_auc  & binary & 0.5602293 & 5 & 0.01222828 & Model09\\\\\n",
       "\t 14 & accuracy & binary & 0.6906667 & 5 & 0.01292715 & Model10\\\\\n",
       "\t 14 & roc\\_auc  & binary & 0.5652557 & 5 & 0.02241967 & Model10\\\\\n",
       "\\end{tabular}\n"
      ],
      "text/markdown": [
       "\n",
       "A tibble: 20 × 7\n",
       "\n",
       "| neighbors &lt;int&gt; | .metric &lt;chr&gt; | .estimator &lt;chr&gt; | mean &lt;dbl&gt; | n &lt;int&gt; | std_err &lt;dbl&gt; | .config &lt;chr&gt; |\n",
       "|---|---|---|---|---|---|---|\n",
       "| 2 | accuracy | binary | 0.6080000 | 5 | 0.01496663 | Model01 |\n",
       "| 2 | roc_auc  | binary | 0.5230159 | 5 | 0.04059705 | Model01 |\n",
       "| 4 | accuracy | binary | 0.6186667 | 5 | 0.02004440 | Model02 |\n",
       "| ⋮ | ⋮ | ⋮ | ⋮ | ⋮ | ⋮ | ⋮ |\n",
       "| 12 | roc_auc  | binary | 0.5602293 | 5 | 0.01222828 | Model09 |\n",
       "| 14 | accuracy | binary | 0.6906667 | 5 | 0.01292715 | Model10 |\n",
       "| 14 | roc_auc  | binary | 0.5652557 | 5 | 0.02241967 | Model10 |\n",
       "\n"
      ],
      "text/plain": [
       "   neighbors .metric  .estimator mean      n std_err    .config\n",
       "1  2         accuracy binary     0.6080000 5 0.01496663 Model01\n",
       "2  2         roc_auc  binary     0.5230159 5 0.04059705 Model01\n",
       "3  4         accuracy binary     0.6186667 5 0.02004440 Model02\n",
       "⋮  ⋮         ⋮        ⋮          ⋮         ⋮ ⋮          ⋮      \n",
       "18 12        roc_auc  binary     0.5602293 5 0.01222828 Model09\n",
       "19 14        accuracy binary     0.6906667 5 0.01292715 Model10\n",
       "20 14        roc_auc  binary     0.5652557 5 0.02241967 Model10"
      ]
     },
     "metadata": {},
     "output_type": "display_data"
    }
   ],
   "source": [
    "#building and tuning the classifier\n",
    "facebook_recipe <- recipe(Paid ~ Lifetime_Post + Lifetime_Like_Engage, data = facebook_train) %>%\n",
    "   step_scale(all_predictors()) %>%\n",
    "   step_center(all_predictors())\n",
    "\n",
    "facebook_vfold <- vfold_cv(facebook_train, v = 5, strata = Paid)\n",
    "\n",
    "knn_tune<- nearest_neighbor(weight_func = 'rectangular', neighbors = tune()) %>%\n",
    "      set_engine('kknn') %>%\n",
    "      set_mode('classification')\n",
    "\n",
    "knn_results <- workflow() %>%\n",
    "      add_recipe(facebook_recipe) %>%\n",
    "      add_model(knn_tune) %>%\n",
    "      tune_grid(resamples = facebook_vfold, grid = 10) %>%\n",
    "      collect_metrics()\n",
    "\n",
    "knn_results"
   ]
  },
  {
   "cell_type": "markdown",
   "metadata": {},
   "source": [
    "##### Step 5\n",
    "Because we only care about the mean of the accuracy, we use the filter() function to filter out these specific rows under the .metric column. We then plot out the graph wherein the x-axis consists of the neighbors column and the y-axis contains the respective means of these neighbours. "
   ]
  },
  {
   "cell_type": "code",
   "execution_count": 5,
   "metadata": {},
   "outputs": [
    {
     "data": {
      "image/png": "[encoded data removed]",
      "text/plain": [
       "plot without title"
      ]
     },
     "metadata": {
      "image/png": {
       "height": 480,
       "width": 480
      }
     },
     "output_type": "display_data"
    }
   ],
   "source": [
    "#choosing the correct number of neighbours\n",
    "accuracies <- knn_results %>% \n",
    "      filter(.metric == 'accuracy')\n",
    "\n",
    "accuracy_versus_k <- ggplot(accuracies, aes(x = neighbors, y = mean))+\n",
    "      geom_point() +\n",
    "      geom_line() +\n",
    "      labs(x = \"Neighbors\", y = \"Accuracy Estimate\")\n",
    "\n",
    "accuracy_versus_k"
   ]
  },
  {
   "cell_type": "code",
   "execution_count": 6,
   "metadata": {},
   "outputs": [
    {
     "data": {
      "text/html": [
       "14"
      ],
      "text/latex": [
       "14"
      ],
      "text/markdown": [
       "14"
      ],
      "text/plain": [
       "[1] 14"
      ]
     },
     "metadata": {},
     "output_type": "display_data"
    }
   ],
   "source": [
    "#building classifier with chosen number of neighbours\n",
    "k_max <- accuracies %>%\n",
    "    filter(mean == max(mean)) %>%\n",
    "    pull(neighbors)\n",
    "k_max\n",
    "\n",
    "knn_spec <- nearest_neighbor(weight_func = 'rectangular', neighbors = k_max) %>%\n",
    "      set_engine('kknn') %>%\n",
    "      set_mode('classification')"
   ]
  },
  {
   "cell_type": "code",
   "execution_count": 7,
   "metadata": {},
   "outputs": [
    {
     "data": {
      "text/html": [
       "<table>\n",
       "<caption>A tibble: 2 × 5</caption>\n",
       "<thead>\n",
       "\t<tr><th scope=col>.metric</th><th scope=col>.estimator</th><th scope=col>mean</th><th scope=col>n</th><th scope=col>std_err</th></tr>\n",
       "\t<tr><th scope=col>&lt;chr&gt;</th><th scope=col>&lt;chr&gt;</th><th scope=col>&lt;dbl&gt;</th><th scope=col>&lt;int&gt;</th><th scope=col>&lt;dbl&gt;</th></tr>\n",
       "</thead>\n",
       "<tbody>\n",
       "\t<tr><td>accuracy</td><td>binary</td><td>0.6906667</td><td>5</td><td>0.01292715</td></tr>\n",
       "\t<tr><td>roc_auc </td><td>binary</td><td>0.5652557</td><td>5</td><td>0.02241967</td></tr>\n",
       "</tbody>\n",
       "</table>\n"
      ],
      "text/latex": [
       "A tibble: 2 × 5\n",
       "\\begin{tabular}{lllll}\n",
       " .metric & .estimator & mean & n & std\\_err\\\\\n",
       " <chr> & <chr> & <dbl> & <int> & <dbl>\\\\\n",
       "\\hline\n",
       "\t accuracy & binary & 0.6906667 & 5 & 0.01292715\\\\\n",
       "\t roc\\_auc  & binary & 0.5652557 & 5 & 0.02241967\\\\\n",
       "\\end{tabular}\n"
      ],
      "text/markdown": [
       "\n",
       "A tibble: 2 × 5\n",
       "\n",
       "| .metric &lt;chr&gt; | .estimator &lt;chr&gt; | mean &lt;dbl&gt; | n &lt;int&gt; | std_err &lt;dbl&gt; |\n",
       "|---|---|---|---|---|\n",
       "| accuracy | binary | 0.6906667 | 5 | 0.01292715 |\n",
       "| roc_auc  | binary | 0.5652557 | 5 | 0.02241967 |\n",
       "\n"
      ],
      "text/plain": [
       "  .metric  .estimator mean      n std_err   \n",
       "1 accuracy binary     0.6906667 5 0.01292715\n",
       "2 roc_auc  binary     0.5652557 5 0.02241967"
      ]
     },
     "metadata": {},
     "output_type": "display_data"
    }
   ],
   "source": [
    "#estimating the classifier's validation/prediction accuracy\n",
    "facebook_fit <- workflow() %>%\n",
    "      add_recipe(facebook_recipe) %>%\n",
    "      add_model(knn_spec) %>%\n",
    "      fit_resamples(resamples = facebook_vfold)\n",
    "\n",
    "facebook_metrics<-collect_metrics(facebook_fit)\n",
    "facebook_metrics"
   ]
  },
  {
   "cell_type": "code",
   "execution_count": 8,
   "metadata": {},
   "outputs": [
    {
     "data": {
      "text/html": [
       "<table>\n",
       "<caption>A tibble: 2 × 3</caption>\n",
       "<thead>\n",
       "\t<tr><th scope=col>.metric</th><th scope=col>.estimator</th><th scope=col>.estimate</th></tr>\n",
       "\t<tr><th scope=col>&lt;chr&gt;</th><th scope=col>&lt;chr&gt;</th><th scope=col>&lt;dbl&gt;</th></tr>\n",
       "</thead>\n",
       "<tbody>\n",
       "\t<tr><td>accuracy</td><td>binary</td><td>0.70161290</td></tr>\n",
       "\t<tr><td>kap     </td><td>binary</td><td>0.07200647</td></tr>\n",
       "</tbody>\n",
       "</table>\n"
      ],
      "text/latex": [
       "A tibble: 2 × 3\n",
       "\\begin{tabular}{lll}\n",
       " .metric & .estimator & .estimate\\\\\n",
       " <chr> & <chr> & <dbl>\\\\\n",
       "\\hline\n",
       "\t accuracy & binary & 0.70161290\\\\\n",
       "\t kap      & binary & 0.07200647\\\\\n",
       "\\end{tabular}\n"
      ],
      "text/markdown": [
       "\n",
       "A tibble: 2 × 3\n",
       "\n",
       "| .metric &lt;chr&gt; | .estimator &lt;chr&gt; | .estimate &lt;dbl&gt; |\n",
       "|---|---|---|\n",
       "| accuracy | binary | 0.70161290 |\n",
       "| kap      | binary | 0.07200647 |\n",
       "\n"
      ],
      "text/plain": [
       "  .metric  .estimator .estimate \n",
       "1 accuracy binary     0.70161290\n",
       "2 kap      binary     0.07200647"
      ]
     },
     "metadata": {},
     "output_type": "display_data"
    },
    {
     "data": {
      "text/plain": [
       "          Truth\n",
       "Prediction  0  1\n",
       "         0 82 29\n",
       "         1  8  5"
      ]
     },
     "metadata": {},
     "output_type": "display_data"
    }
   ],
   "source": [
    "#estimating the accuracy of the classifier on the testing data\n",
    "facebook_fit_test <- workflow() %>%\n",
    "    add_recipe(facebook_recipe) %>%\n",
    "    add_model(knn_spec) %>%\n",
    "    fit(data = facebook_train)\n",
    "\n",
    "facebook_test_prediction <- predict(facebook_fit_test, facebook_test) %>%\n",
    "    bind_cols(facebook_test)\n",
    "\n",
    "facebook_metrics <- facebook_test_prediction %>%\n",
    "    metrics(truth = Paid, estimate = .pred_class)\n",
    "facebook_metrics\n",
    "\n",
    "confusion <- facebook_test_prediction %>%\n",
    "    conf_mat(truth = Paid, estimate = .pred_class)\n",
    "confusion"
   ]
  },
  {
   "cell_type": "code",
   "execution_count": 9,
   "metadata": {},
   "outputs": [
    {
     "data": {
      "text/html": [
       "<table>\n",
       "<caption>A data.frame: 500 × 3</caption>\n",
       "<thead>\n",
       "\t<tr><th scope=col>Paid</th><th scope=col>Lifetime_Post</th><th scope=col>Lifetime_Like_Engage</th></tr>\n",
       "\t<tr><th scope=col>&lt;fct&gt;</th><th scope=col>&lt;dbl[,1]&gt;</th><th scope=col>&lt;dbl[,1]&gt;</th></tr>\n",
       "</thead>\n",
       "<tbody>\n",
       "\t<tr><td>0</td><td>-0.4903682</td><td>-0.8013146</td></tr>\n",
       "\t<tr><td>0</td><td>-0.1514178</td><td> 0.8127847</td></tr>\n",
       "\t<tr><td>0</td><td>-0.5052754</td><td>-0.7800980</td></tr>\n",
       "\t<tr><td>⋮</td><td>⋮</td><td>⋮</td></tr>\n",
       "\t<tr><td>0 </td><td>-0.4452511</td><td>-0.4030940</td></tr>\n",
       "\t<tr><td>0 </td><td>-0.4286289</td><td>-0.3916696</td></tr>\n",
       "\t<tr><td>NA</td><td>-0.4272218</td><td>-0.4798004</td></tr>\n",
       "</tbody>\n",
       "</table>\n"
      ],
      "text/latex": [
       "A data.frame: 500 × 3\n",
       "\\begin{tabular}{lll}\n",
       " Paid & Lifetime\\_Post & Lifetime\\_Like\\_Engage\\\\\n",
       " <fct> & <dbl{[},1{]}> & <dbl{[},1{]}>\\\\\n",
       "\\hline\n",
       "\t 0 & -0.4903682 & -0.8013146\\\\\n",
       "\t 0 & -0.1514178 &  0.8127847\\\\\n",
       "\t 0 & -0.5052754 & -0.7800980\\\\\n",
       "\t ⋮ & ⋮ & ⋮\\\\\n",
       "\t 0  & -0.4452511 & -0.4030940\\\\\n",
       "\t 0  & -0.4286289 & -0.3916696\\\\\n",
       "\t NA & -0.4272218 & -0.4798004\\\\\n",
       "\\end{tabular}\n"
      ],
      "text/markdown": [
       "\n",
       "A data.frame: 500 × 3\n",
       "\n",
       "| Paid &lt;fct&gt; | Lifetime_Post &lt;dbl[,1]&gt; | Lifetime_Like_Engage &lt;dbl[,1]&gt; |\n",
       "|---|---|---|\n",
       "| 0 | -0.4903682 | -0.8013146 |\n",
       "| 0 | -0.1514178 |  0.8127847 |\n",
       "| 0 | -0.5052754 | -0.7800980 |\n",
       "| ⋮ | ⋮ | ⋮ |\n",
       "| 0  | -0.4452511 | -0.4030940 |\n",
       "| 0  | -0.4286289 | -0.3916696 |\n",
       "| NA | -0.4272218 | -0.4798004 |\n",
       "\n"
      ],
      "text/plain": [
       "    Paid Lifetime_Post Lifetime_Like_Engage\n",
       "1   0    -0.4903682    -0.8013146          \n",
       "2   0    -0.1514178     0.8127847          \n",
       "3   0    -0.5052754    -0.7800980          \n",
       "⋮   ⋮    ⋮             ⋮                   \n",
       "498 0    -0.4452511    -0.4030940          \n",
       "499 0    -0.4286289    -0.3916696          \n",
       "500 NA   -0.4272218    -0.4798004          "
      ]
     },
     "metadata": {},
     "output_type": "display_data"
    }
   ],
   "source": [
    "#scale the variables\n",
    "facebook_scaled <- facebook %>%\n",
    "    mutate(Lifetime_Post = scale(Lifetime_Post, center = TRUE), Lifetime_Like_Engage = scale(Lifetime_Like_Engage, center = TRUE))\n",
    "facebook_scaled"
   ]
  },
  {
   "cell_type": "code",
   "execution_count": 10,
   "metadata": {},
   "outputs": [
    {
     "data": {
      "image/png": "[encoded data removed]",
      "text/plain": [
       "plot without title"
      ]
     },
     "metadata": {
      "image/png": {
       "height": 480,
       "width": 480
      }
     },
     "output_type": "display_data"
    }
   ],
   "source": [
    "#plotting the scaled variables\n",
    "facebook_plot <- ggplot(facebook_scaled, aes(x = Lifetime_Post, y = Lifetime_Like_Engage, colour = Paid)) +\n",
    "    geom_point()\n",
    "facebook_plot"
   ]
  },
  {
   "cell_type": "code",
   "execution_count": 11,
   "metadata": {},
   "outputs": [
    {
     "data": {
      "text/html": [
       "<table>\n",
       "<caption>A tibble: 1 × 1</caption>\n",
       "<thead>\n",
       "\t<tr><th scope=col>.pred_class</th></tr>\n",
       "\t<tr><th scope=col>&lt;fct&gt;</th></tr>\n",
       "</thead>\n",
       "<tbody>\n",
       "\t<tr><td>1</td></tr>\n",
       "</tbody>\n",
       "</table>\n"
      ],
      "text/latex": [
       "A tibble: 1 × 1\n",
       "\\begin{tabular}{l}\n",
       " .pred\\_class\\\\\n",
       " <fct>\\\\\n",
       "\\hline\n",
       "\t 1\\\\\n",
       "\\end{tabular}\n"
      ],
      "text/markdown": [
       "\n",
       "A tibble: 1 × 1\n",
       "\n",
       "| .pred_class &lt;fct&gt; |\n",
       "|---|\n",
       "| 1 |\n",
       "\n"
      ],
      "text/plain": [
       "  .pred_class\n",
       "1 1          "
      ]
     },
     "metadata": {},
     "output_type": "display_data"
    }
   ],
   "source": [
    "#predicting new observations\n",
    "facebook_fit_new <- workflow() %>%\n",
    "    add_recipe(facebook_recipe) %>%\n",
    "    add_model(knn_spec) %>%\n",
    "    fit(data = facebook_scaled)\n",
    "\n",
    "new_obs <- tibble(Lifetime_Post = 1, Lifetime_Like_Engage = 0.5)\n",
    "\n",
    "facebook_predict <- predict(facebook_fit_new, new_obs)\n",
    "facebook_predict"
   ]
  },
  {
   "cell_type": "markdown",
   "metadata": {},
   "source": [
    "### Discussion:"
   ]
  },
  {
   "cell_type": "code",
   "execution_count": null,
   "metadata": {},
   "outputs": [],
   "source": []
  },
  {
   "cell_type": "markdown",
   "metadata": {},
   "source": [
    "### Reference:"
   ]
  },
  {
   "cell_type": "code",
   "execution_count": null,
   "metadata": {},
   "outputs": [],
   "source": []
  }
 ],
 "metadata": {
  "kernelspec": {
   "display_name": "R",
   "language": "R",
   "name": "ir"
  },
  "language_info": {
   "codemirror_mode": "r",
   "file_extension": ".r",
   "mimetype": "text/x-r-source",
   "name": "R",
   "pygments_lexer": "r",
   "version": "4.0.0"
  }
 },
 "nbformat": 4,
 "nbformat_minor": 4
}
