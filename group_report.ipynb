{
 "cells": [
  {
   "cell_type": "markdown",
   "metadata": {},
   "source": [
    "# Facebook: Paid vs Unpaid Posts"
   ]
  },
  {
   "cell_type": "markdown",
   "metadata": {},
   "source": [
    "### Introduction:\n",
    "Background: Facebook is one of the biggest social media platforms known to society, and it is a great place for businesses to reach consumers globally. It is a great way to collect data on different metrics and, specifically, we curious to see if we could predict whether a post is paid or unpaid. Hence, we chose two different metrics for Facebook posts that we thought would correlate the heaviest, lifetime post total reach and lifetime people who have liked the page and engaged with the post, to make a prediction on whether the post was paid or unpaid.\n",
    "\n",
    "Question: How well do the two variables, lifetime post total reach and lifetime people who have liked the page and engaged with the post, predict if a post was paid or unpaid? In other words, which of the three has the highest accuracy of predicting a paid/unpaid post: 1. the first variable, 2. the second variable or 3. together?\n",
    "\n",
    "Dataset: The dataset we have is from 2014 Facebook posts of a renowned cosmetic brand, and it shows the type of post (paid vs unpaid) as well as information on it, from the number of likes and shares to total impressions. This will be done through splitting the data into a training and testing set, and building a classifier thereafter."
   ]
  },
  {
   "cell_type": "markdown",
   "metadata": {},
   "source": [
    "### Methods and Results:"
   ]
  },
  {
   "cell_type": "code",
   "execution_count": 2,
   "metadata": {},
   "outputs": [
    {
     "name": "stderr",
     "output_type": "stream",
     "text": [
      "── \u001b[1mAttaching packages\u001b[22m ─────────────────────────────────────── tidyverse 1.3.0 ──\n",
      "\n",
      "\u001b[32m✔\u001b[39m \u001b[34mggplot2\u001b[39m 3.3.2     \u001b[32m✔\u001b[39m \u001b[34mpurrr  \u001b[39m 0.3.4\n",
      "\u001b[32m✔\u001b[39m \u001b[34mtibble \u001b[39m 3.0.3     \u001b[32m✔\u001b[39m \u001b[34mdplyr  \u001b[39m 1.0.2\n",
      "\u001b[32m✔\u001b[39m \u001b[34mtidyr  \u001b[39m 1.1.2     \u001b[32m✔\u001b[39m \u001b[34mstringr\u001b[39m 1.4.0\n",
      "\u001b[32m✔\u001b[39m \u001b[34mreadr  \u001b[39m 1.3.1     \u001b[32m✔\u001b[39m \u001b[34mforcats\u001b[39m 0.5.0\n",
      "\n",
      "Warning message:\n",
      "“package ‘ggplot2’ was built under R version 4.0.1”\n",
      "Warning message:\n",
      "“package ‘tibble’ was built under R version 4.0.2”\n",
      "Warning message:\n",
      "“package ‘tidyr’ was built under R version 4.0.2”\n",
      "Warning message:\n",
      "“package ‘dplyr’ was built under R version 4.0.2”\n",
      "── \u001b[1mConflicts\u001b[22m ────────────────────────────────────────── tidyverse_conflicts() ──\n",
      "\u001b[31m✖\u001b[39m \u001b[34mdplyr\u001b[39m::\u001b[32mfilter()\u001b[39m masks \u001b[34mstats\u001b[39m::filter()\n",
      "\u001b[31m✖\u001b[39m \u001b[34mdplyr\u001b[39m::\u001b[32mlag()\u001b[39m    masks \u001b[34mstats\u001b[39m::lag()\n",
      "\n",
      "Warning message:\n",
      "“package ‘tidymodels’ was built under R version 4.0.2”\n",
      "── \u001b[1mAttaching packages\u001b[22m ────────────────────────────────────── tidymodels 0.1.1 ──\n",
      "\n",
      "\u001b[32m✔\u001b[39m \u001b[34mbroom    \u001b[39m 0.7.0      \u001b[32m✔\u001b[39m \u001b[34mrecipes  \u001b[39m 0.1.13\n",
      "\u001b[32m✔\u001b[39m \u001b[34mdials    \u001b[39m 0.0.9      \u001b[32m✔\u001b[39m \u001b[34mrsample  \u001b[39m 0.0.7 \n",
      "\u001b[32m✔\u001b[39m \u001b[34minfer    \u001b[39m 0.5.4      \u001b[32m✔\u001b[39m \u001b[34mtune     \u001b[39m 0.1.1 \n",
      "\u001b[32m✔\u001b[39m \u001b[34mmodeldata\u001b[39m 0.0.2      \u001b[32m✔\u001b[39m \u001b[34mworkflows\u001b[39m 0.2.0 \n",
      "\u001b[32m✔\u001b[39m \u001b[34mparsnip  \u001b[39m 0.1.3      \u001b[32m✔\u001b[39m \u001b[34myardstick\u001b[39m 0.0.7 \n",
      "\n",
      "Warning message:\n",
      "“package ‘broom’ was built under R version 4.0.2”\n",
      "Warning message:\n",
      "“package ‘dials’ was built under R version 4.0.2”\n",
      "Warning message:\n",
      "“package ‘infer’ was built under R version 4.0.3”\n",
      "Warning message:\n",
      "“package ‘modeldata’ was built under R version 4.0.1”\n",
      "Warning message:\n",
      "“package ‘parsnip’ was built under R version 4.0.2”\n",
      "Warning message:\n",
      "“package ‘recipes’ was built under R version 4.0.1”\n",
      "Warning message:\n",
      "“package ‘tune’ was built under R version 4.0.2”\n",
      "Warning message:\n",
      "“package ‘workflows’ was built under R version 4.0.2”\n",
      "Warning message:\n",
      "“package ‘yardstick’ was built under R version 4.0.2”\n",
      "── \u001b[1mConflicts\u001b[22m ───────────────────────────────────────── tidymodels_conflicts() ──\n",
      "\u001b[31m✖\u001b[39m \u001b[34mscales\u001b[39m::\u001b[32mdiscard()\u001b[39m masks \u001b[34mpurrr\u001b[39m::discard()\n",
      "\u001b[31m✖\u001b[39m \u001b[34mdplyr\u001b[39m::\u001b[32mfilter()\u001b[39m   masks \u001b[34mstats\u001b[39m::filter()\n",
      "\u001b[31m✖\u001b[39m \u001b[34mrecipes\u001b[39m::\u001b[32mfixed()\u001b[39m  masks \u001b[34mstringr\u001b[39m::fixed()\n",
      "\u001b[31m✖\u001b[39m \u001b[34mdplyr\u001b[39m::\u001b[32mlag()\u001b[39m      masks \u001b[34mstats\u001b[39m::lag()\n",
      "\u001b[31m✖\u001b[39m \u001b[34myardstick\u001b[39m::\u001b[32mspec()\u001b[39m masks \u001b[34mreadr\u001b[39m::spec()\n",
      "\u001b[31m✖\u001b[39m \u001b[34mrecipes\u001b[39m::\u001b[32mstep()\u001b[39m   masks \u001b[34mstats\u001b[39m::step()\n",
      "\n"
     ]
    },
    {
     "data": {
      "text/html": [
       "<table>\n",
       "<caption>A data.frame: 500 × 19</caption>\n",
       "<thead>\n",
       "\t<tr><th scope=col>Page.total.likes</th><th scope=col>Type</th><th scope=col>Category</th><th scope=col>Post.Month</th><th scope=col>Post.Weekday</th><th scope=col>Post.Hour</th><th scope=col>Paid</th><th scope=col>Lifetime.Post.Total.Reach</th><th scope=col>Lifetime.Post.Total.Impressions</th><th scope=col>Lifetime.Engaged.Users</th><th scope=col>Lifetime.Post.Consumers</th><th scope=col>Lifetime.Post.Consumptions</th><th scope=col>Lifetime.Post.Impressions.by.people.who.have.liked.your.Page</th><th scope=col>Lifetime.Post.reach.by.people.who.like.your.Page</th><th scope=col>Lifetime.People.who.have.liked.your.Page.and.engaged.with.your.post</th><th scope=col>comment</th><th scope=col>like</th><th scope=col>share</th><th scope=col>Total.Interactions</th></tr>\n",
       "\t<tr><th scope=col>&lt;int&gt;</th><th scope=col>&lt;chr&gt;</th><th scope=col>&lt;int&gt;</th><th scope=col>&lt;int&gt;</th><th scope=col>&lt;int&gt;</th><th scope=col>&lt;int&gt;</th><th scope=col>&lt;fct&gt;</th><th scope=col>&lt;int&gt;</th><th scope=col>&lt;int&gt;</th><th scope=col>&lt;int&gt;</th><th scope=col>&lt;int&gt;</th><th scope=col>&lt;int&gt;</th><th scope=col>&lt;int&gt;</th><th scope=col>&lt;int&gt;</th><th scope=col>&lt;int&gt;</th><th scope=col>&lt;int&gt;</th><th scope=col>&lt;int&gt;</th><th scope=col>&lt;int&gt;</th><th scope=col>&lt;int&gt;</th></tr>\n",
       "</thead>\n",
       "<tbody>\n",
       "\t<tr><td>139441</td><td>Photo </td><td>2</td><td>12</td><td>4</td><td> 3</td><td>0</td><td> 2752</td><td> 5091</td><td> 178</td><td> 109</td><td> 159</td><td> 3078</td><td>1640</td><td> 119</td><td>4</td><td> 79</td><td>17</td><td>100</td></tr>\n",
       "\t<tr><td>139441</td><td>Status</td><td>2</td><td>12</td><td>3</td><td>10</td><td>0</td><td>10460</td><td>19057</td><td>1457</td><td>1361</td><td>1674</td><td>11710</td><td>6112</td><td>1108</td><td>5</td><td>130</td><td>29</td><td>164</td></tr>\n",
       "\t<tr><td>139441</td><td>Photo </td><td>3</td><td>12</td><td>3</td><td> 3</td><td>0</td><td> 2413</td><td> 4373</td><td> 177</td><td> 113</td><td> 154</td><td> 2812</td><td>1503</td><td> 132</td><td>0</td><td> 66</td><td>14</td><td> 80</td></tr>\n",
       "\t<tr><td>⋮</td><td>⋮</td><td>⋮</td><td>⋮</td><td>⋮</td><td>⋮</td><td>⋮</td><td>⋮</td><td>⋮</td><td>⋮</td><td>⋮</td><td>⋮</td><td>⋮</td><td>⋮</td><td>⋮</td><td>⋮</td><td>⋮</td><td>⋮</td><td>⋮</td></tr>\n",
       "\t<tr><td>81370</td><td>Photo</td><td>1</td><td>1</td><td>5</td><td> 2</td><td>0 </td><td>3778</td><td>7216</td><td>625</td><td>572</td><td>795</td><td>4742</td><td>2388</td><td>363</td><td>4</td><td>93</td><td>18</td><td>115</td></tr>\n",
       "\t<tr><td>81370</td><td>Photo</td><td>3</td><td>1</td><td>4</td><td>11</td><td>0 </td><td>4156</td><td>7564</td><td>626</td><td>574</td><td>832</td><td>4534</td><td>2452</td><td>370</td><td>7</td><td>91</td><td>38</td><td>136</td></tr>\n",
       "\t<tr><td>81370</td><td>Photo</td><td>2</td><td>1</td><td>4</td><td> 4</td><td>NA</td><td>4188</td><td>7292</td><td>564</td><td>524</td><td>743</td><td>3861</td><td>2200</td><td>316</td><td>0</td><td>91</td><td>28</td><td>119</td></tr>\n",
       "</tbody>\n",
       "</table>\n"
      ],
      "text/latex": [
       "A data.frame: 500 × 19\n",
       "\\begin{tabular}{lllllllllllllllllll}\n",
       " Page.total.likes & Type & Category & Post.Month & Post.Weekday & Post.Hour & Paid & Lifetime.Post.Total.Reach & Lifetime.Post.Total.Impressions & Lifetime.Engaged.Users & Lifetime.Post.Consumers & Lifetime.Post.Consumptions & Lifetime.Post.Impressions.by.people.who.have.liked.your.Page & Lifetime.Post.reach.by.people.who.like.your.Page & Lifetime.People.who.have.liked.your.Page.and.engaged.with.your.post & comment & like & share & Total.Interactions\\\\\n",
       " <int> & <chr> & <int> & <int> & <int> & <int> & <fct> & <int> & <int> & <int> & <int> & <int> & <int> & <int> & <int> & <int> & <int> & <int> & <int>\\\\\n",
       "\\hline\n",
       "\t 139441 & Photo  & 2 & 12 & 4 &  3 & 0 &  2752 &  5091 &  178 &  109 &  159 &  3078 & 1640 &  119 & 4 &  79 & 17 & 100\\\\\n",
       "\t 139441 & Status & 2 & 12 & 3 & 10 & 0 & 10460 & 19057 & 1457 & 1361 & 1674 & 11710 & 6112 & 1108 & 5 & 130 & 29 & 164\\\\\n",
       "\t 139441 & Photo  & 3 & 12 & 3 &  3 & 0 &  2413 &  4373 &  177 &  113 &  154 &  2812 & 1503 &  132 & 0 &  66 & 14 &  80\\\\\n",
       "\t ⋮ & ⋮ & ⋮ & ⋮ & ⋮ & ⋮ & ⋮ & ⋮ & ⋮ & ⋮ & ⋮ & ⋮ & ⋮ & ⋮ & ⋮ & ⋮ & ⋮ & ⋮ & ⋮\\\\\n",
       "\t 81370 & Photo & 1 & 1 & 5 &  2 & 0  & 3778 & 7216 & 625 & 572 & 795 & 4742 & 2388 & 363 & 4 & 93 & 18 & 115\\\\\n",
       "\t 81370 & Photo & 3 & 1 & 4 & 11 & 0  & 4156 & 7564 & 626 & 574 & 832 & 4534 & 2452 & 370 & 7 & 91 & 38 & 136\\\\\n",
       "\t 81370 & Photo & 2 & 1 & 4 &  4 & NA & 4188 & 7292 & 564 & 524 & 743 & 3861 & 2200 & 316 & 0 & 91 & 28 & 119\\\\\n",
       "\\end{tabular}\n"
      ],
      "text/markdown": [
       "\n",
       "A data.frame: 500 × 19\n",
       "\n",
       "| Page.total.likes &lt;int&gt; | Type &lt;chr&gt; | Category &lt;int&gt; | Post.Month &lt;int&gt; | Post.Weekday &lt;int&gt; | Post.Hour &lt;int&gt; | Paid &lt;fct&gt; | Lifetime.Post.Total.Reach &lt;int&gt; | Lifetime.Post.Total.Impressions &lt;int&gt; | Lifetime.Engaged.Users &lt;int&gt; | Lifetime.Post.Consumers &lt;int&gt; | Lifetime.Post.Consumptions &lt;int&gt; | Lifetime.Post.Impressions.by.people.who.have.liked.your.Page &lt;int&gt; | Lifetime.Post.reach.by.people.who.like.your.Page &lt;int&gt; | Lifetime.People.who.have.liked.your.Page.and.engaged.with.your.post &lt;int&gt; | comment &lt;int&gt; | like &lt;int&gt; | share &lt;int&gt; | Total.Interactions &lt;int&gt; |\n",
       "|---|---|---|---|---|---|---|---|---|---|---|---|---|---|---|---|---|---|---|\n",
       "| 139441 | Photo  | 2 | 12 | 4 |  3 | 0 |  2752 |  5091 |  178 |  109 |  159 |  3078 | 1640 |  119 | 4 |  79 | 17 | 100 |\n",
       "| 139441 | Status | 2 | 12 | 3 | 10 | 0 | 10460 | 19057 | 1457 | 1361 | 1674 | 11710 | 6112 | 1108 | 5 | 130 | 29 | 164 |\n",
       "| 139441 | Photo  | 3 | 12 | 3 |  3 | 0 |  2413 |  4373 |  177 |  113 |  154 |  2812 | 1503 |  132 | 0 |  66 | 14 |  80 |\n",
       "| ⋮ | ⋮ | ⋮ | ⋮ | ⋮ | ⋮ | ⋮ | ⋮ | ⋮ | ⋮ | ⋮ | ⋮ | ⋮ | ⋮ | ⋮ | ⋮ | ⋮ | ⋮ | ⋮ |\n",
       "| 81370 | Photo | 1 | 1 | 5 |  2 | 0  | 3778 | 7216 | 625 | 572 | 795 | 4742 | 2388 | 363 | 4 | 93 | 18 | 115 |\n",
       "| 81370 | Photo | 3 | 1 | 4 | 11 | 0  | 4156 | 7564 | 626 | 574 | 832 | 4534 | 2452 | 370 | 7 | 91 | 38 | 136 |\n",
       "| 81370 | Photo | 2 | 1 | 4 |  4 | NA | 4188 | 7292 | 564 | 524 | 743 | 3861 | 2200 | 316 | 0 | 91 | 28 | 119 |\n",
       "\n"
      ],
      "text/plain": [
       "    Page.total.likes Type   Category Post.Month Post.Weekday Post.Hour Paid\n",
       "1   139441           Photo  2        12         4             3        0   \n",
       "2   139441           Status 2        12         3            10        0   \n",
       "3   139441           Photo  3        12         3             3        0   \n",
       "⋮   ⋮                ⋮      ⋮        ⋮          ⋮            ⋮         ⋮   \n",
       "498 81370            Photo  1        1          5             2        0   \n",
       "499 81370            Photo  3        1          4            11        0   \n",
       "500 81370            Photo  2        1          4             4        NA  \n",
       "    Lifetime.Post.Total.Reach Lifetime.Post.Total.Impressions\n",
       "1    2752                      5091                          \n",
       "2   10460                     19057                          \n",
       "3    2413                      4373                          \n",
       "⋮   ⋮                         ⋮                              \n",
       "498 3778                      7216                           \n",
       "499 4156                      7564                           \n",
       "500 4188                      7292                           \n",
       "    Lifetime.Engaged.Users Lifetime.Post.Consumers Lifetime.Post.Consumptions\n",
       "1    178                    109                     159                      \n",
       "2   1457                   1361                    1674                      \n",
       "3    177                    113                     154                      \n",
       "⋮   ⋮                      ⋮                       ⋮                         \n",
       "498 625                    572                     795                       \n",
       "499 626                    574                     832                       \n",
       "500 564                    524                     743                       \n",
       "    Lifetime.Post.Impressions.by.people.who.have.liked.your.Page\n",
       "1    3078                                                       \n",
       "2   11710                                                       \n",
       "3    2812                                                       \n",
       "⋮   ⋮                                                           \n",
       "498 4742                                                        \n",
       "499 4534                                                        \n",
       "500 3861                                                        \n",
       "    Lifetime.Post.reach.by.people.who.like.your.Page\n",
       "1   1640                                            \n",
       "2   6112                                            \n",
       "3   1503                                            \n",
       "⋮   ⋮                                               \n",
       "498 2388                                            \n",
       "499 2452                                            \n",
       "500 2200                                            \n",
       "    Lifetime.People.who.have.liked.your.Page.and.engaged.with.your.post comment\n",
       "1    119                                                                4      \n",
       "2   1108                                                                5      \n",
       "3    132                                                                0      \n",
       "⋮   ⋮                                                                   ⋮      \n",
       "498 363                                                                 4      \n",
       "499 370                                                                 7      \n",
       "500 316                                                                 0      \n",
       "    like share Total.Interactions\n",
       "1    79  17    100               \n",
       "2   130  29    164               \n",
       "3    66  14     80               \n",
       "⋮   ⋮    ⋮     ⋮                 \n",
       "498 93   18    115               \n",
       "499 91   38    136               \n",
       "500 91   28    119               "
      ]
     },
     "metadata": {},
     "output_type": "display_data"
    }
   ],
   "source": [
    "library(tidyverse)\n",
    "library(repr)\n",
    "library(tidymodels)"
   ]
  },
  {
   "cell_type": "code",
   "execution_count": 7,
   "metadata": {},
   "outputs": [
    {
     "data": {
      "text/html": [
       "<table>\n",
       "<caption>A data.frame: 500 × 3</caption>\n",
       "<thead>\n",
       "\t<tr><th scope=col>Paid</th><th scope=col>Lifetime_Post</th><th scope=col>Lifetime_Like_Engage</th></tr>\n",
       "\t<tr><th scope=col>&lt;fct&gt;</th><th scope=col>&lt;int&gt;</th><th scope=col>&lt;int&gt;</th></tr>\n",
       "</thead>\n",
       "<tbody>\n",
       "\t<tr><td>0</td><td> 2752</td><td> 119</td></tr>\n",
       "\t<tr><td>0</td><td>10460</td><td>1108</td></tr>\n",
       "\t<tr><td>0</td><td> 2413</td><td> 132</td></tr>\n",
       "\t<tr><td>⋮</td><td>⋮</td><td>⋮</td></tr>\n",
       "\t<tr><td>0 </td><td>3778</td><td>363</td></tr>\n",
       "\t<tr><td>0 </td><td>4156</td><td>370</td></tr>\n",
       "\t<tr><td>NA</td><td>4188</td><td>316</td></tr>\n",
       "</tbody>\n",
       "</table>\n"
      ],
      "text/latex": [
       "A data.frame: 500 × 3\n",
       "\\begin{tabular}{lll}\n",
       " Paid & Lifetime\\_Post & Lifetime\\_Like\\_Engage\\\\\n",
       " <fct> & <int> & <int>\\\\\n",
       "\\hline\n",
       "\t 0 &  2752 &  119\\\\\n",
       "\t 0 & 10460 & 1108\\\\\n",
       "\t 0 &  2413 &  132\\\\\n",
       "\t ⋮ & ⋮ & ⋮\\\\\n",
       "\t 0  & 3778 & 363\\\\\n",
       "\t 0  & 4156 & 370\\\\\n",
       "\t NA & 4188 & 316\\\\\n",
       "\\end{tabular}\n"
      ],
      "text/markdown": [
       "\n",
       "A data.frame: 500 × 3\n",
       "\n",
       "| Paid &lt;fct&gt; | Lifetime_Post &lt;int&gt; | Lifetime_Like_Engage &lt;int&gt; |\n",
       "|---|---|---|\n",
       "| 0 |  2752 |  119 |\n",
       "| 0 | 10460 | 1108 |\n",
       "| 0 |  2413 |  132 |\n",
       "| ⋮ | ⋮ | ⋮ |\n",
       "| 0  | 3778 | 363 |\n",
       "| 0  | 4156 | 370 |\n",
       "| NA | 4188 | 316 |\n",
       "\n"
      ],
      "text/plain": [
       "    Paid Lifetime_Post Lifetime_Like_Engage\n",
       "1   0     2752          119                \n",
       "2   0    10460         1108                \n",
       "3   0     2413          132                \n",
       "⋮   ⋮    ⋮             ⋮                   \n",
       "498 0    3778          363                 \n",
       "499 0    4156          370                 \n",
       "500 NA   4188          316                 "
      ]
     },
     "metadata": {},
     "output_type": "display_data"
    }
   ],
   "source": [
    "set.seed(3060)\n",
    "options(repr.plot.width = 8, repr.plot.height = 8)\n",
    "options(repr.matrix.max.rows = 6)\n",
    "facebook <- select(mutate(read.delim('data/dataset_Facebook.csv', sep=';'), Paid=as_factor(Paid)), Paid, Lifetime_Post = Lifetime.Post.Total.Reach, Lifetime_Like_Engage = Lifetime.People.who.have.liked.your.Page.and.engaged.with.your.post)\n",
    "facebook"
   ]
  },
  {
   "cell_type": "code",
   "execution_count": 12,
   "metadata": {},
   "outputs": [
    {
     "data": {
      "text/html": [
       "<table>\n",
       "<caption>A tibble: 20 × 7</caption>\n",
       "<thead>\n",
       "\t<tr><th scope=col>neighbors</th><th scope=col>.metric</th><th scope=col>.estimator</th><th scope=col>mean</th><th scope=col>n</th><th scope=col>std_err</th><th scope=col>.config</th></tr>\n",
       "\t<tr><th scope=col>&lt;int&gt;</th><th scope=col>&lt;chr&gt;</th><th scope=col>&lt;chr&gt;</th><th scope=col>&lt;dbl&gt;</th><th scope=col>&lt;int&gt;</th><th scope=col>&lt;dbl&gt;</th><th scope=col>&lt;chr&gt;</th></tr>\n",
       "</thead>\n",
       "<tbody>\n",
       "\t<tr><td>1</td><td>accuracy</td><td>binary</td><td>0.6040509</td><td>5</td><td>0.01014028</td><td>Model01</td></tr>\n",
       "\t<tr><td>1</td><td>roc_auc </td><td>binary</td><td>0.5221163</td><td>5</td><td>0.01169333</td><td>Model01</td></tr>\n",
       "\t<tr><td>3</td><td>accuracy</td><td>binary</td><td>0.6156967</td><td>5</td><td>0.02828348</td><td>Model02</td></tr>\n",
       "\t<tr><td>⋮</td><td>⋮</td><td>⋮</td><td>⋮</td><td>⋮</td><td>⋮</td><td>⋮</td></tr>\n",
       "\t<tr><td>13</td><td>roc_auc </td><td>binary</td><td>0.5980755</td><td>5</td><td>0.028905875</td><td>Model09</td></tr>\n",
       "\t<tr><td>14</td><td>accuracy</td><td>binary</td><td>0.6683869</td><td>5</td><td>0.009109782</td><td>Model10</td></tr>\n",
       "\t<tr><td>14</td><td>roc_auc </td><td>binary</td><td>0.5940510</td><td>5</td><td>0.033624741</td><td>Model10</td></tr>\n",
       "</tbody>\n",
       "</table>\n"
      ],
      "text/latex": [
       "A tibble: 20 × 7\n",
       "\\begin{tabular}{lllllll}\n",
       " neighbors & .metric & .estimator & mean & n & std\\_err & .config\\\\\n",
       " <int> & <chr> & <chr> & <dbl> & <int> & <dbl> & <chr>\\\\\n",
       "\\hline\n",
       "\t 1 & accuracy & binary & 0.6040509 & 5 & 0.01014028 & Model01\\\\\n",
       "\t 1 & roc\\_auc  & binary & 0.5221163 & 5 & 0.01169333 & Model01\\\\\n",
       "\t 3 & accuracy & binary & 0.6156967 & 5 & 0.02828348 & Model02\\\\\n",
       "\t ⋮ & ⋮ & ⋮ & ⋮ & ⋮ & ⋮ & ⋮\\\\\n",
       "\t 13 & roc\\_auc  & binary & 0.5980755 & 5 & 0.028905875 & Model09\\\\\n",
       "\t 14 & accuracy & binary & 0.6683869 & 5 & 0.009109782 & Model10\\\\\n",
       "\t 14 & roc\\_auc  & binary & 0.5940510 & 5 & 0.033624741 & Model10\\\\\n",
       "\\end{tabular}\n"
      ],
      "text/markdown": [
       "\n",
       "A tibble: 20 × 7\n",
       "\n",
       "| neighbors &lt;int&gt; | .metric &lt;chr&gt; | .estimator &lt;chr&gt; | mean &lt;dbl&gt; | n &lt;int&gt; | std_err &lt;dbl&gt; | .config &lt;chr&gt; |\n",
       "|---|---|---|---|---|---|---|\n",
       "| 1 | accuracy | binary | 0.6040509 | 5 | 0.01014028 | Model01 |\n",
       "| 1 | roc_auc  | binary | 0.5221163 | 5 | 0.01169333 | Model01 |\n",
       "| 3 | accuracy | binary | 0.6156967 | 5 | 0.02828348 | Model02 |\n",
       "| ⋮ | ⋮ | ⋮ | ⋮ | ⋮ | ⋮ | ⋮ |\n",
       "| 13 | roc_auc  | binary | 0.5980755 | 5 | 0.028905875 | Model09 |\n",
       "| 14 | accuracy | binary | 0.6683869 | 5 | 0.009109782 | Model10 |\n",
       "| 14 | roc_auc  | binary | 0.5940510 | 5 | 0.033624741 | Model10 |\n",
       "\n"
      ],
      "text/plain": [
       "   neighbors .metric  .estimator mean      n std_err     .config\n",
       "1  1         accuracy binary     0.6040509 5 0.01014028  Model01\n",
       "2  1         roc_auc  binary     0.5221163 5 0.01169333  Model01\n",
       "3  3         accuracy binary     0.6156967 5 0.02828348  Model02\n",
       "⋮  ⋮         ⋮        ⋮          ⋮         ⋮ ⋮           ⋮      \n",
       "18 13        roc_auc  binary     0.5980755 5 0.028905875 Model09\n",
       "19 14        accuracy binary     0.6683869 5 0.009109782 Model10\n",
       "20 14        roc_auc  binary     0.5940510 5 0.033624741 Model10"
      ]
     },
     "metadata": {},
     "output_type": "display_data"
    }
   ],
   "source": [
    "facebook_split <- initial_split(facebook, prop = 0.75, strata = Paid) \n",
    "facebook_train <- training(facebook_split)   \n",
    "facebook_test <- testing(facebook_split)\n",
    "\n",
    "facebook_recipe <- recipe(Paid ~ Lifetime_Post + Lifetime_Like_Engage, data = facebook_train) %>%\n",
    "   step_scale(all_predictors()) %>%\n",
    "   step_center(all_predictors())\n",
    "\n",
    "facebook_vfold <- vfold_cv(facebook_train, v = 5, strata = Paid)\n",
    "\n",
    "knn_tune<- nearest_neighbor(weight_func = 'rectangular', neighbors = tune()) %>%\n",
    "      set_engine('kknn') %>%\n",
    "      set_mode('classification')\n",
    "\n",
    "knn_results <- workflow() %>%\n",
    "      add_recipe(facebook_recipe) %>%\n",
    "      add_model(knn_tune) %>%\n",
    "      tune_grid(resamples = facebook_vfold, grid = 10) %>%\n",
    "      collect_metrics()\n",
    "\n",
    "knn_results"
   ]
  },
  {
   "cell_type": "code",
   "execution_count": 14,
   "metadata": {},
   "outputs": [
    {
     "data": {
      "image/png": "[encoded data removed]",
      "text/plain": [
       "plot without title"
      ]
     },
     "metadata": {
      "image/png": {
       "height": 480,
       "width": 480
      }
     },
     "output_type": "display_data"
    }
   ],
   "source": [
    "accuracies <- knn_results %>% \n",
    "      filter(.metric == 'accuracy')\n",
    "\n",
    "accuracy_versus_k <- ggplot(accuracies, aes(x = neighbors, y = mean))+\n",
    "      geom_point() +\n",
    "      geom_line() +\n",
    "      labs(x = \"Neighbors\", y = \"Accuracy Estimate\")\n",
    "\n",
    "accuracy_versus_k"
   ]
  },
  {
   "cell_type": "code",
   "execution_count": 17,
   "metadata": {},
   "outputs": [
    {
     "data": {
      "text/html": [
       "<table>\n",
       "<caption>A tibble: 2 × 5</caption>\n",
       "<thead>\n",
       "\t<tr><th scope=col>.metric</th><th scope=col>.estimator</th><th scope=col>mean</th><th scope=col>n</th><th scope=col>std_err</th></tr>\n",
       "\t<tr><th scope=col>&lt;chr&gt;</th><th scope=col>&lt;chr&gt;</th><th scope=col>&lt;dbl&gt;</th><th scope=col>&lt;int&gt;</th><th scope=col>&lt;dbl&gt;</th></tr>\n",
       "</thead>\n",
       "<tbody>\n",
       "\t<tr><td>accuracy</td><td>binary</td><td>0.6847143</td><td>5</td><td>0.01378932</td></tr>\n",
       "\t<tr><td>roc_auc </td><td>binary</td><td>0.5955500</td><td>5</td><td>0.02809042</td></tr>\n",
       "</tbody>\n",
       "</table>\n"
      ],
      "text/latex": [
       "A tibble: 2 × 5\n",
       "\\begin{tabular}{lllll}\n",
       " .metric & .estimator & mean & n & std\\_err\\\\\n",
       " <chr> & <chr> & <dbl> & <int> & <dbl>\\\\\n",
       "\\hline\n",
       "\t accuracy & binary & 0.6847143 & 5 & 0.01378932\\\\\n",
       "\t roc\\_auc  & binary & 0.5955500 & 5 & 0.02809042\\\\\n",
       "\\end{tabular}\n"
      ],
      "text/markdown": [
       "\n",
       "A tibble: 2 × 5\n",
       "\n",
       "| .metric &lt;chr&gt; | .estimator &lt;chr&gt; | mean &lt;dbl&gt; | n &lt;int&gt; | std_err &lt;dbl&gt; |\n",
       "|---|---|---|---|---|\n",
       "| accuracy | binary | 0.6847143 | 5 | 0.01378932 |\n",
       "| roc_auc  | binary | 0.5955500 | 5 | 0.02809042 |\n",
       "\n"
      ],
      "text/plain": [
       "  .metric  .estimator mean      n std_err   \n",
       "1 accuracy binary     0.6847143 5 0.01378932\n",
       "2 roc_auc  binary     0.5955500 5 0.02809042"
      ]
     },
     "metadata": {},
     "output_type": "display_data"
    }
   ],
   "source": [
    "knn_spec <- nearest_neighbor(weight_func = 'rectangular', neighbors = 10) %>%\n",
    "      set_engine('kknn') %>%\n",
    "      set_mode('classification')\n",
    "\n",
    "facebook_fit <- workflow() %>%\n",
    "      add_recipe(facebook_recipe) %>%\n",
    "      add_model(knn_spec) %>%\n",
    "      fit_resamples(resamples = facebook_vfold)\n",
    "\n",
    "facebook_metrics<-collect_metrics(facebook_fit)\n",
    "facebook_metrics"
   ]
  },
  {
   "cell_type": "code",
   "execution_count": null,
   "metadata": {},
   "outputs": [],
   "source": []
  },
  {
   "cell_type": "markdown",
   "metadata": {},
   "source": [
    "### Discussion:"
   ]
  },
  {
   "cell_type": "code",
   "execution_count": null,
   "metadata": {},
   "outputs": [],
   "source": []
  },
  {
   "cell_type": "markdown",
   "metadata": {},
   "source": [
    "### Reference:"
   ]
  },
  {
   "cell_type": "code",
   "execution_count": null,
   "metadata": {},
   "outputs": [],
   "source": []
  }
 ],
 "metadata": {
  "kernelspec": {
   "display_name": "R",
   "language": "R",
   "name": "ir"
  },
  "language_info": {
   "codemirror_mode": "r",
   "file_extension": ".r",
   "mimetype": "text/x-r-source",
   "name": "R",
   "pygments_lexer": "r",
   "version": "4.0.0"
  }
 },
 "nbformat": 4,
 "nbformat_minor": 4
}
